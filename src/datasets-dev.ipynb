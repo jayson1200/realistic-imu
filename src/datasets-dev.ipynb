{
 "cells": [
  {
   "metadata": {
    "collapsed": true,
    "ExecuteTime": {
     "end_time": "2025-02-02T06:11:31.742702Z",
     "start_time": "2025-02-02T06:11:31.740449Z"
    }
   },
   "cell_type": "code",
   "source": [
    "import nimblephysics as nimble\n",
    "import numpy as np\n",
    "import torch\n",
    "from cvxpylayers.torch import CvxpyLayer\n",
    "import cvxpy as cp\n",
    "\n",
    "import time\n",
    "\n",
    "from IPython.core.display_functions import clear_output\n",
    "from open3d.examples.visualization.draw import get_icp_transform\n",
    "from quaternion import angular_velocity\n",
    "from einops import einsum, repeat\n",
    "from scipy.ndimage import median_filter\n",
    "from tqdm import tqdm\n",
    "import os\n",
    "import pickle"
   ],
   "id": "initial_id",
   "outputs": [],
   "execution_count": 11
  },
  {
   "metadata": {
    "ExecuteTime": {
     "end_time": "2025-02-02T06:11:31.756992Z",
     "start_time": "2025-02-02T06:11:31.746166Z"
    }
   },
   "cell_type": "code",
   "source": [
    "trial_path = \"/home/meribejayson/Desktop/Projects/realistic-imu/data/final_dataset/DIP/S1.b3d\"\n",
    "GEOMETRY_PATH = \"/home/meribejayson/Desktop/Projects/realistic-imu/data/final_dataset/Geometry/\"\n",
    "GRAVITY = 9.80665"
   ],
   "id": "eddb38b7153fdd7",
   "outputs": [],
   "execution_count": 12
  },
  {
   "metadata": {
    "ExecuteTime": {
     "end_time": "2025-02-02T06:11:31.925905Z",
     "start_time": "2025-02-02T06:11:31.789824Z"
    }
   },
   "cell_type": "code",
   "source": [
    "from typing import List, Tuple\n",
    "\n",
    "subject = nimble.biomechanics.SubjectOnDisk(trial_path)\n",
    "skeleton = nimble.dynamics.Skeleton = subject.readSkel(processingPass=1,\n",
    "                                                       geometryFolder=GEOMETRY_PATH)\n",
    "\n",
    "skel_joints = [skeleton.getJoint(i).getName() for i in range(skeleton.getNumJoints())]\n",
    "skel_body_nodes = [skeleton.getBodyNode(i).getName() for i in range(skeleton.getNumBodyNodes())]\n",
    "\n",
    "print(len(skel_body_nodes))\n",
    "skel_body_nodes"
   ],
   "id": "da4f06c43acbd24",
   "outputs": [
    {
     "name": "stdout",
     "output_type": "stream",
     "text": [
      "Setting len to 0.106608\n",
      "Setting neutral pos to   0\n",
      "0.7\n",
      "  0\n",
      "Setting len to 0.342794\n",
      "Setting neutral pos to    0\n",
      "-0.6\n",
      "   0\n",
      "Setting len to 0.119716\n",
      "Setting neutral pos to   0\n",
      "0.2\n",
      "  0\n",
      "24\n"
     ]
    },
    {
     "data": {
      "text/plain": [
       "['pelvis',\n",
       " 'femur_r',\n",
       " 'tibia_r',\n",
       " 'talus_r',\n",
       " 'calcn_r',\n",
       " 'toes_r',\n",
       " 'femur_l',\n",
       " 'tibia_l',\n",
       " 'talus_l',\n",
       " 'calcn_l',\n",
       " 'toes_l',\n",
       " 'lumbar_body',\n",
       " 'thorax',\n",
       " 'head',\n",
       " 'scapula_r',\n",
       " 'humerus_r',\n",
       " 'ulna_r',\n",
       " 'radius_r',\n",
       " 'hand_r',\n",
       " 'scapula_l',\n",
       " 'humerus_l',\n",
       " 'ulna_l',\n",
       " 'radius_l',\n",
       " 'hand_l']"
      ]
     },
     "execution_count": 13,
     "metadata": {},
     "output_type": "execute_result"
    }
   ],
   "execution_count": 13
  },
  {
   "metadata": {
    "ExecuteTime": {
     "end_time": "2025-02-02T06:11:31.971731Z",
     "start_time": "2025-02-02T06:11:31.969795Z"
    }
   },
   "cell_type": "code",
   "source": [
    "print(len(skel_joints))\n",
    "skel_joints"
   ],
   "id": "4a9ce79f48ef260b",
   "outputs": [
    {
     "name": "stdout",
     "output_type": "stream",
     "text": [
      "24\n"
     ]
    },
    {
     "data": {
      "text/plain": [
       "['ground_pelvis',\n",
       " 'hip_r',\n",
       " 'walker_knee_r',\n",
       " 'ankle_r',\n",
       " 'subtalar_r',\n",
       " 'mtp_r',\n",
       " 'hip_l',\n",
       " 'walker_knee_l',\n",
       " 'ankle_l',\n",
       " 'subtalar_l',\n",
       " 'mtp_l',\n",
       " 'lumbar',\n",
       " 'thoracic_spine',\n",
       " 'neck',\n",
       " 'scapulothoracic_r',\n",
       " 'GlenoHumeral_r',\n",
       " 'elbow_r',\n",
       " 'radioulnar_r',\n",
       " 'wrist_r',\n",
       " 'scapulothoracic_l',\n",
       " 'GlenoHumeral_l',\n",
       " 'elbow_l',\n",
       " 'radioulnar_l',\n",
       " 'wrist_l']"
      ]
     },
     "execution_count": 14,
     "metadata": {},
     "output_type": "execute_result"
    }
   ],
   "execution_count": 14
  },
  {
   "metadata": {
    "ExecuteTime": {
     "end_time": "2025-02-02T06:11:32.016780Z",
     "start_time": "2025-02-02T06:11:32.014773Z"
    }
   },
   "cell_type": "code",
   "source": "skeleton.getNumDofs()",
   "id": "585fe5135be3957b",
   "outputs": [
    {
     "data": {
      "text/plain": [
       "49"
      ]
     },
     "execution_count": 15,
     "metadata": {},
     "output_type": "execute_result"
    }
   ],
   "execution_count": 15
  },
  {
   "metadata": {
    "ExecuteTime": {
     "end_time": "2025-02-02T06:11:32.069134Z",
     "start_time": "2025-02-02T06:11:32.064839Z"
    }
   },
   "cell_type": "code",
   "source": [
    "right_wrist: nimble.dynamics.Joint = skeleton.getBodyNode(\"hand_r\")\n",
    "translation: np.ndarray = np.array([0.0, 0.05, 0.0])\n",
    "rotation: np.ndarray = np.eye(3)\n",
    "watch_offset: nimble.math.Isometry3 = nimble.math.Isometry3(rotation, translation)\n",
    "\n",
    "skeleton.setGravity(np.array([0.0, -GRAVITY, 0.0]))\n",
    "\n",
    "print(skeleton.getBodyNode(\"hand_r\").getWorldTransform())"
   ],
   "id": "32d8e175f041af44",
   "outputs": [
    {
     "name": "stdout",
     "output_type": "stream",
     "text": [
      "[[ 0.8503932  -0.28173527  0.44436094  0.07124618]\n",
      " [ 0.26341593  0.95906446  0.10395866  0.88399438]\n",
      " [-0.4554596   0.02864602  0.88979546  0.18382312]\n",
      " [ 0.          0.          0.          1.        ]]\n"
     ]
    }
   ],
   "execution_count": 16
  },
  {
   "metadata": {
    "ExecuteTime": {
     "end_time": "2025-02-02T06:11:32.114300Z",
     "start_time": "2025-02-02T06:11:32.112142Z"
    }
   },
   "cell_type": "code",
   "source": [
    "import matplotlib.pyplot as plt\n",
    "\n",
    "def minimize(sequence):\n",
    "    smooth_weight = 0.36\n",
    "    regularization_weight = 0.1\n",
    "    lr = 2\n",
    "    iterations = 10000\n",
    "    device = \"cuda\" if torch.cuda.is_available() else \"cpu\"\n",
    "\n",
    "    orig_sequence = torch.from_numpy(sequence).to(device=device)\n",
    "    output_sequence = orig_sequence.detach().clone().requires_grad_(True)\n",
    "\n",
    "    optimizer = torch.optim.SGD([output_sequence], lr=lr)\n",
    "\n",
    "    def loss():\n",
    "        return smooth_weight * torch.square(output_sequence - orig_sequence).sum() + regularization_weight * torch.square(output_sequence).sum()\n",
    "\n",
    "    for i in range(iterations):\n",
    "        optimizer.zero_grad()\n",
    "        loss_val = loss()\n",
    "        loss_val.backward()\n",
    "        optimizer.step()\n",
    "\n",
    "    return output_sequence.detach().cpu().numpy()"
   ],
   "id": "75389e9db8d1f221",
   "outputs": [],
   "execution_count": 17
  },
  {
   "metadata": {
    "ExecuteTime": {
     "end_time": "2025-02-02T06:11:32.159265Z",
     "start_time": "2025-02-02T06:11:32.156121Z"
    }
   },
   "cell_type": "code",
   "source": [
    "def fill_nans(acc: torch.Tensor) -> torch.Tensor:\n",
    "    # Reshape (T, N, C) -> (T, N*C) for simpler 1D column-wise interpolation\n",
    "    T, N, C = acc.shape\n",
    "    acc_2d = acc.reshape(T, N * C)\n",
    "\n",
    "    # Move to CPU (if on GPU) for NumPy ops\n",
    "    acc_np = acc_2d.cpu().numpy()\n",
    "\n",
    "    for col_idx in range(acc_np.shape[1]):\n",
    "        col_data = acc_np[:, col_idx]\n",
    "        # Find indices of valid and invalid entries\n",
    "        valid_mask = ~np.isnan(col_data)\n",
    "        if not np.any(valid_mask):\n",
    "            # All NaNs; decide how to fill them (zero or remain NaN)\n",
    "            # Here we choose to fill with zero for demonstration:\n",
    "            col_data[:] = 0.0\n",
    "            continue\n",
    "        if np.all(valid_mask):\n",
    "            # Already has no NaNs in this column\n",
    "            continue\n",
    "\n",
    "        valid_x = np.where(valid_mask)[0]\n",
    "        valid_y = col_data[valid_mask]\n",
    "        invalid_x = np.where(~valid_mask)[0]\n",
    "\n",
    "        # Interpolate\n",
    "        col_data[invalid_x] = np.interp(invalid_x, valid_x, valid_y)\n",
    "\n",
    "    # Move back to original device\n",
    "    acc_filled = torch.from_numpy(acc_np).reshape(T, N, C).to(acc.device)\n",
    "    return acc_filled"
   ],
   "id": "7a08317aff486b3d",
   "outputs": [],
   "execution_count": 18
  },
  {
   "metadata": {
    "ExecuteTime": {
     "end_time": "2025-02-02T06:11:32.589800Z",
     "start_time": "2025-02-02T06:11:32.201639Z"
    }
   },
   "cell_type": "code",
   "source": [
    "with open(\"/home/meribejayson/Desktop/Projects/realistic-imu/data/final_dataset/DIP/DIP_orig/S1/01.pkl\", \"rb\") as file:\n",
    "    vals = pickle.load(file, encoding=\"latin1\")[\"imu\"]\n",
    "\n",
    "vals[:, :, :3]"
   ],
   "id": "3b94a4c94303983f",
   "outputs": [
    {
     "data": {
      "text/plain": [
       "array([[[ 0.89995843, -0.15217061, -0.40855714],\n",
       "        [ 0.98648638, -0.01189452,  0.16341096],\n",
       "        [        nan,         nan,         nan],\n",
       "        ...,\n",
       "        [-0.14920152, -0.95913027,  0.240433  ],\n",
       "        [ 0.97157289,  0.08987311,  0.21901815],\n",
       "        [        nan,         nan,         nan]],\n",
       "\n",
       "       [[ 0.90291665, -0.15042667, -0.402633  ],\n",
       "        [ 0.98649444, -0.01166408,  0.16337893],\n",
       "        [ 0.98324461,  0.00484152,  0.18222677],\n",
       "        ...,\n",
       "        [-0.14931078, -0.95916191,  0.2402389 ],\n",
       "        [ 0.97160456,  0.08989438,  0.21886885],\n",
       "        [ 0.94187588,  0.02695563,  0.33487791]],\n",
       "\n",
       "       [[ 0.90710633, -0.14777461, -0.39410756],\n",
       "        [ 0.98643782, -0.01152577,  0.1637302 ],\n",
       "        [ 0.98329519,  0.00478607,  0.18195509],\n",
       "        ...,\n",
       "        [-0.14962804, -0.95967677,  0.23797469],\n",
       "        [ 0.97161546,  0.09008362,  0.21874263],\n",
       "        [ 0.94187571,  0.02695153,  0.33487874]],\n",
       "\n",
       "       ...,\n",
       "\n",
       "       [[ 0.91603171,  0.03686403,  0.39940824],\n",
       "        [ 0.97761859, -0.02260528,  0.20916713],\n",
       "        [ 0.97743297,  0.01370817,  0.21080056],\n",
       "        ...,\n",
       "        [-0.07281133, -0.85817968,  0.50815957],\n",
       "        [ 0.95876342,  0.07573768,  0.27392792],\n",
       "        [ 0.96240154, -0.05137572,  0.26672797]],\n",
       "\n",
       "       [[ 0.91577403,  0.03711873,  0.39997517],\n",
       "        [ 0.97729226, -0.02164841,  0.21078704],\n",
       "        [ 0.97733021,  0.0137068 ,  0.21127657],\n",
       "        ...,\n",
       "        [-0.0724235 , -0.85645538,  0.51111546],\n",
       "        [ 0.95879382,  0.07566546,  0.27384145],\n",
       "        [ 0.96232667, -0.05177264,  0.2669213 ]],\n",
       "\n",
       "       [[ 0.91549952,  0.03735735,  0.40058091],\n",
       "        [ 0.97694769, -0.02069604,  0.21247325],\n",
       "        [ 0.9772888 ,  0.01358715,  0.21147573],\n",
       "        ...,\n",
       "        [-0.07252873, -0.85500015,  0.51353123],\n",
       "        [ 0.95880021,  0.07549888,  0.27386506],\n",
       "        [ 0.96221618, -0.05256285,  0.26716508]]])"
      ]
     },
     "execution_count": 19,
     "metadata": {},
     "output_type": "execute_result"
    }
   ],
   "execution_count": 19
  },
  {
   "metadata": {
    "ExecuteTime": {
     "end_time": "2025-02-02T06:11:32.609540Z",
     "start_time": "2025-02-02T06:11:32.600154Z"
    }
   },
   "cell_type": "code",
   "source": [
    "from scipy import signal\n",
    "from scipy.ndimage import uniform_filter1d\n",
    "\n",
    "import torch\n",
    "\n",
    "class DIP_Subject:\n",
    "    def __init__(self, b3d_path):\n",
    "        self.subject = nimble.biomechanics.SubjectOnDisk(b3d_path)\n",
    "        self.skeleton = nimble.dynamics.Skeleton = self.subject.readSkel(processingPass=1,\n",
    "                                                                         geometryFolder=GEOMETRY_PATH)\n",
    "        self.subject_num = int(b3d_path.split(\"/\")[-1].split(\".\")[0][1:])\n",
    "        self.synthetic_component_names = [\n",
    "            \"head\",\n",
    "            \"sternum\",\n",
    "            \"pelvis\",\n",
    "            \"lshoulder\",\n",
    "            \"rshoulder\",\n",
    "            \"lupperarm\",\n",
    "            \"rupperarm\",\n",
    "            \"llowerarm\",\n",
    "            \"rlowerarm\",\n",
    "            \"lupperleg\",\n",
    "            \"rupperleg\",\n",
    "            \"llowerleg\",\n",
    "            \"rlowerleg\",\n",
    "            \"lhand\",\n",
    "            \"rhand\",\n",
    "            \"lfoot\",\n",
    "            \"rfoot\",\n",
    "        ]\n",
    "\n",
    "        # Corresponding bones to the sensors\n",
    "        self.skel_names = [\n",
    "            \"head\",\n",
    "            \"thorax\",\n",
    "            \"pelvis\",\n",
    "            \"scapula_l\",\n",
    "            \"scapula_r\",\n",
    "            \"humerus_l\",\n",
    "            \"humerus_r\",\n",
    "            \"ulna_l\",\n",
    "            \"ulna_r\",\n",
    "            \"femur_l\",\n",
    "            \"femur_r\",\n",
    "            \"tibia_l\",\n",
    "            \"tibia_r\",\n",
    "            \"hand_l\",\n",
    "            \"hand_r\",\n",
    "            \"calcn_l\",\n",
    "            \"calcn_r\"\n",
    "        ]\n",
    "\n",
    "        self.N_MEAS = len(self.skel_names) * 3\n",
    "\n",
    "        self.imus = [(self.skeleton.getBodyNode(name), nimble.math.Isometry3.Identity()) for name in self.skel_names]\n",
    "\n",
    "        self.corresponding_imu_path = os.path.join(os.path.dirname(b3d_path), f\"DIP_orig/S{self.subject_num}\")\n",
    "        self.trial_map = {}\n",
    "        self.joint_data_map = {}\n",
    "        self.trial_imu_map = {}\n",
    "        self.skeleton.setGravity([0, -GRAVITY, 0])\n",
    "        self.device = \"cuda\" if torch.cuda.is_available() else \"cpu\"\n",
    "\n",
    "        print(f\"Processing DIP Subject {self.subject_num}\")\n",
    "\n",
    "\n",
    "        # Creating a map between a trial for some subject and the corresponding frame list\n",
    "        for i in range(self.subject.getNumTrials()):\n",
    "            key = self.subject.getTrialOriginalName(i).split(\"_\")[0]\n",
    "            curr_trial = self.subject.readFrames(trial=i,\n",
    "                                                 startFrame=0,\n",
    "                                                 numFramesToRead=self.subject.getTrialLength(i),\n",
    "                                                 includeProcessingPasses=True)\n",
    "\n",
    "            if key in self.trial_map:\n",
    "                self.trial_map[key].extend(curr_trial)\n",
    "            else:\n",
    "                self.trial_map[key] = curr_trial\n",
    "\n",
    "        # Define Butterworth filter parameters\n",
    "        self.fs = 60  # Sampling frequency\n",
    "        self.cutoff =  8  # Cutoff frequency\n",
    "        self.b, self.a = signal.butter(10, self.cutoff / (self.fs / 2), btype='low')\n",
    "\n",
    "        # Creating a map for joint state\n",
    "        for key, frames in self.trial_map.items():\n",
    "            joint_angles_raw = np.vstack([frame.processingPasses[0].pos for frame in frames]).T\n",
    "            joint_vel_raw = np.vstack([frame.processingPasses[0].vel for frame in frames]).T\n",
    "            joint_acc_raw = np.vstack([frame.processingPasses[0].acc for frame in frames]).T\n",
    "\n",
    "            \"\"\"\n",
    "            self.joint_data_map[key] = {\n",
    "                \"joint_angles\": signal.filtfilt(self.b, self.a, joint_angles_raw, axis=1),\n",
    "                \"joint_vel\": signal.filtfilt(self.b, self.a, joint_vel_raw, axis=1),\n",
    "                \"joint_acc\": signal.filtfilt(self.b, self.a, joint_acc_raw, axis=1),\n",
    "            }\n",
    "            \"\"\"\n",
    "\n",
    "\n",
    "            print(joint_acc_raw.shape)\n",
    "            self.filter = (1, 8)\n",
    "            self.joint_data_map[key] = {\n",
    "                \"joint_angles\": joint_angles_raw,\n",
    "                \"joint_vel\": uniform_filter1d(median_filter(joint_vel_raw, size=self.filter), size=20, axis=1),\n",
    "                \"joint_acc\": uniform_filter1d(median_filter(joint_acc_raw, size=self.filter), size=20, axis=1),\n",
    "            }\n",
    "\n",
    "\n",
    "            with open(os.path.join(self.corresponding_imu_path, f\"{key}.pkl\"), \"rb\") as file:\n",
    "                real_data = pickle.load(file, encoding=\"latin1\")[\"imu\"]\n",
    "                acc = real_data[:, :, 9:12]\n",
    "                acc = fill_nans(torch.from_numpy(acc))\n",
    "\n",
    "            self.num_trials = len(self.joint_data_map.keys())\n",
    "\n",
    "            self.synthetic_transformations = {}\n",
    "            self.gravity_translation = {}\n",
    "            self.gravity_transformation = {}\n",
    "\n",
    "            self.trial_imu_map[key] = {\n",
    "                \"acc\": acc.transpose(0, 1),\n",
    "            }\n",
    "\n",
    "        self.syn_imu = {}\n",
    "        self.get_syn_imu_to_real_transformations()\n",
    "\n",
    "        self.opt_trans = {}\n",
    "        self.find_optimal_syn_transformations()\n",
    "        \"\"\"\n",
    "        gui = nimble.NimbleGUI()\n",
    "        gui.serve(8080)\n",
    "\n",
    "        transform_dict = self.opt_trans[\"03\"]\n",
    "\n",
    "\n",
    "        for t in tqdm(range(self.joint_data_map[\"03\"][\"joint_angles\"].shape[1])):\n",
    "            skeleton.setPositions(self.joint_data_map[\"03\"][\"joint_angles\"][:, t])\n",
    "\n",
    "            body_node_pos = skeleton.getBodyNode(self.skel_names[0]).getWorldTransform().matrix()\n",
    "            imu_in_world_frame =\n",
    "\n",
    "\n",
    "            gui.nativeAPI().renderBasis(pos=None, euler=)\n",
    "            #gui.nativeAPI().renderArrow(start_pos, (gravity_direction / 10), 0.01, 0.04)\n",
    "\n",
    "            # print(gravity_direction)\n",
    "            gui.nativeAPI().renderSkeleton(skeleton)\n",
    "            time.sleep(1/60)\n",
    "        \"\"\"\n",
    "\n",
    "\n",
    "    # Get estimated homogenous transformations from synthetix to real imu\n",
    "    def get_syn_imu_to_real_transformations(self):\n",
    "        for trial_name, trial in self.joint_data_map.items():\n",
    "            joint_angles = trial[\"joint_angles\"]\n",
    "            joint_vel = trial[\"joint_vel\"]\n",
    "            joint_acc = trial[\"joint_acc\"]\n",
    "\n",
    "            curr_syn_acc = np.empty((self.N_MEAS,  joint_angles.shape[1]))\n",
    "            curr_syn_angular_vel = np.empty((self.N_MEAS,  joint_angles.shape[1]))\n",
    "\n",
    "            for t in range(joint_angles.shape[1]):\n",
    "                self.skeleton.setPositions(joint_angles[:, t])\n",
    "                self.skeleton.setVelocities(joint_vel[:, t])\n",
    "                self.skeleton.setAccelerations(joint_acc[:, t])\n",
    "\n",
    "                curr_syn_acc[:, t] = self.skeleton.getAccelerometerReadings(self.imus)\n",
    "                curr_syn_angular_vel[:, t] = self.skeleton.getGyroReadings(self.imus)\n",
    "\n",
    "\n",
    "            curr_syn_acc = curr_syn_acc.T.reshape(-1, 17, 3)\n",
    "            curr_syn_angular_vel = curr_syn_angular_vel.T.reshape(-1, 17, 3)\n",
    "\n",
    "            self.syn_imu[trial_name] = {\"acc\": curr_syn_acc, \"angular_vel\": curr_syn_angular_vel}\n",
    "\n",
    "\n",
    "    def rotation_matrix(self, phi, theta, psi):\n",
    "        \"\"\"\n",
    "        Generate a 3D rotation matrix given Euler angles (phi, theta, psi).\n",
    "        \"\"\"\n",
    "        R_x_cos = np.cos(phi)\n",
    "        R_x_sin = np.sin(phi)\n",
    "\n",
    "        R_x = np.tile(np.eye(3)[np.newaxis, : , :], (17, 1, 1))\n",
    "        R_x[:, 1, 1] = R_x_cos\n",
    "        R_x[:, 2, 2] = R_x_cos\n",
    "        R_x[:, 1, 2] = - R_x_sin\n",
    "        R_x[:, 2, 1] = R_x_sin\n",
    "\n",
    "        R_y_cos = np.cos(theta)\n",
    "        R_y_sin = np.sin(theta)\n",
    "\n",
    "        R_y = np.tile(np.eye(3)[np.newaxis, : , :], (17, 1, 1))\n",
    "        R_y[:, 0, 0] = R_y_cos\n",
    "        R_y[:, 2, 2] = R_y_cos\n",
    "        R_y[:, 2, 0] = - R_y_sin\n",
    "        R_y[:, 0, 2] = R_y_sin\n",
    "\n",
    "        R_z_cos = np.cos(psi)\n",
    "        R_z_sin = np.sin(psi)\n",
    "\n",
    "        R_z = np.tile(np.eye(3)[np.newaxis, : , :], (17, 1, 1))\n",
    "        R_z[:, 0, 0] = R_z_cos\n",
    "        R_z[:, 1, 1] = R_z_cos\n",
    "        R_z[:, 0, 1] = - R_z_sin\n",
    "        R_x[:, 1, 0] = R_z_sin\n",
    "\n",
    "        return R_z @ R_y @ R_x\n",
    "\n",
    "    def get_transform(self, translation, rotation):\n",
    "        ret = np.zeros((rotation.shape[0], 4, 4))\n",
    "\n",
    "        ret[:, :3, :3] = rotation\n",
    "        ret[:, 3, :3] = translation\n",
    "        ret[:, 3, 3] = 1\n",
    "\n",
    "        return ret\n",
    "\n",
    "    def get_world_transforms(self, trial_name):\n",
    "        num_time_steps = self.joint_data_map[trial_name][\"joint_angles\"].shape[1]\n",
    "        world_transform = np.empty((num_time_steps, 17, 4, 4))\n",
    "\n",
    "\n",
    "        for t in range(num_time_steps):\n",
    "            self.skeleton.setPositions(self.joint_data_map[trial_name][\"joint_angles\"][:, t])\n",
    "\n",
    "            for idx, body_node_name in enumerate(self.skel_names):\n",
    "                world_transform[t, idx, :, :] = skeleton.getBodyNode(body_node_name).getWorldTransform().matrix()\n",
    "\n",
    "        return world_transform\n",
    "\n",
    "\n",
    "\n",
    "    def get_grads(self, loss, nimble_to_imu_transform, world_transforms, accs):\n",
    "        # This is a^T @ (homogenous world transform) for each time step for each imu\n",
    "        rotated_accs = einsum(np.sign(loss), accs, world_transforms, \"seq, seq imu r, seq imu r c -> seq imu c\")\n",
    "        d_loss_d_imu_transform = repeat(rotated_accs, \"seq imu c -> seq imu c repeat\", repeat=4)\n",
    "\n",
    "        d_loss_d_translation  = d_loss_d_imu_transform[:, :, :-1, -1]\n",
    "        d_loss_d_rotation =\n",
    "\n",
    "\n",
    "    def find_optimal_syn_transformations(self):\n",
    "        for trial_name, syn_imu in self.syn_imu.items():\n",
    "            num_t_steps = syn_imu[\"acc\"].shape[1]\n",
    "\n",
    "            syn_imu_data = syn_imu[\"acc\"].transpose(2, 1)\n",
    "            real_imu_data = self.trial_imu_map[trial_name][\"acc\"].transpose(2, 1)\n",
    "\n",
    "            homogenous_coord = np.ones((17, 1, num_t_steps))\n",
    "            syn_imu_data = np.concatenate((syn_imu_data, homogenous_coord), axis=-1)\n",
    "\n",
    "            phi_accel = np.random.rand(17)\n",
    "            theta_accel = np.random.rand(17)\n",
    "            psi_accel = np.random.rand(17)\n",
    "\n",
    "            accel_translation_mat = np.random.rand(17, 1, 3)\n",
    "            nimble_to_real_imu_transform = self.get_transform(accel_translation_mat, self.rotation_matrix(phi_accel, theta_accel, psi_accel))\n",
    "\n",
    "            trial_body_node_world_transforms = self.get_world_transforms(trial_name)\n",
    "\n",
    "            begin_loss = None\n",
    "            end_loss = None\n",
    "\n",
    "            for iteration in range(1250):\n",
    "\n",
    "                transformed_syn = 0\n",
    "\n",
    "                l1_loss = torch.norm(real_imu_data - transformed_syn, p=1)\n",
    "\n",
    "                # Combine into a single loss\n",
    "                loss = l1_loss\n",
    "\n",
    "                if iteration == 0:\n",
    "                    begin_loss = loss.item()\n",
    "                elif iteration == 1249:\n",
    "                    end_loss = loss.item()\n",
    "\n",
    "                # Backpropagation\n",
    "                loss.backward()\n",
    "                #optimizer.step()\n",
    "\n",
    "            nimble_to_real_imu_transform = self.rotation_matrix(phi_accel, theta_accel, psi_accel)\n",
    "\n",
    "            self.opt_trans[trial_name] = {\n",
    "                \"begin_loss\": begin_loss,\n",
    "                \"end_loss\": end_loss,\n",
    "                \"accel_rotation_mat\": nimble_to_real_imu_transform,\n",
    "            }\n"
   ],
   "id": "e940b9027a752957",
   "outputs": [],
   "execution_count": 20
  },
  {
   "metadata": {
    "ExecuteTime": {
     "end_time": "2025-02-02T06:11:35.365056Z",
     "start_time": "2025-02-02T06:11:32.636802Z"
    }
   },
   "cell_type": "code",
   "source": "dip_subject = DIP_Subject(trial_path)",
   "id": "509ca41373c37807",
   "outputs": [
    {
     "name": "stdout",
     "output_type": "stream",
     "text": [
      "Setting len to 0.106608\n",
      "Processing DIP Subject 1\n",
      "Setting neutral pos to   0\n",
      "0.7\n",
      "  0\n",
      "Setting len to 0.342794\n",
      "Setting neutral pos to    0\n",
      "-0.6\n",
      "   0\n",
      "Setting len to 0.119716\n",
      "Setting neutral pos to   0\n",
      "0.2\n",
      "  0\n",
      "(49, 13778)\n",
      "(49, 5942)\n",
      "(49, 7938)\n",
      "(49, 1075)\n",
      "(49, 5540)\n",
      "Synthetic IMU data shape torch.Size([17, 3, 13778])\n"
     ]
    },
    {
     "ename": "ValueError",
     "evalue": "could not broadcast input array from shape (17,1,3) into shape (17,3)",
     "output_type": "error",
     "traceback": [
      "\u001B[0;31m---------------------------------------------------------------------------\u001B[0m",
      "\u001B[0;31mValueError\u001B[0m                                Traceback (most recent call last)",
      "Cell \u001B[0;32mIn[21], line 1\u001B[0m\n\u001B[0;32m----> 1\u001B[0m dip_subject \u001B[38;5;241m=\u001B[39m DIP_Subject(trial_path)\n",
      "Cell \u001B[0;32mIn[20], line 128\u001B[0m, in \u001B[0;36mDIP_Subject.__init__\u001B[0;34m(self, b3d_path)\u001B[0m\n\u001B[1;32m    125\u001B[0m \u001B[38;5;28mself\u001B[39m\u001B[38;5;241m.\u001B[39mget_syn_imu_to_real_transformations()\n\u001B[1;32m    127\u001B[0m \u001B[38;5;28mself\u001B[39m\u001B[38;5;241m.\u001B[39mopt_trans \u001B[38;5;241m=\u001B[39m {}\n\u001B[0;32m--> 128\u001B[0m \u001B[38;5;28mself\u001B[39m\u001B[38;5;241m.\u001B[39mfind_optimal_syn_transformations()\n\u001B[1;32m    129\u001B[0m \u001B[38;5;250m\u001B[39m\u001B[38;5;124;03m\"\"\"\u001B[39;00m\n\u001B[1;32m    130\u001B[0m \u001B[38;5;124;03mgui = nimble.NimbleGUI()\u001B[39;00m\n\u001B[1;32m    131\u001B[0m \u001B[38;5;124;03mgui.serve(8080)\u001B[39;00m\n\u001B[0;32m   (...)\u001B[0m\n\u001B[1;32m    148\u001B[0m \u001B[38;5;124;03m    time.sleep(1/60)\u001B[39;00m\n\u001B[1;32m    149\u001B[0m \u001B[38;5;124;03m\"\"\"\u001B[39;00m\n",
      "Cell \u001B[0;32mIn[20], line 253\u001B[0m, in \u001B[0;36mDIP_Subject.find_optimal_syn_transformations\u001B[0;34m(self)\u001B[0m\n\u001B[1;32m    250\u001B[0m psi_accel \u001B[38;5;241m=\u001B[39m np\u001B[38;5;241m.\u001B[39mrandom\u001B[38;5;241m.\u001B[39mrand(\u001B[38;5;241m17\u001B[39m)\n\u001B[1;32m    252\u001B[0m accel_translation_mat \u001B[38;5;241m=\u001B[39m np\u001B[38;5;241m.\u001B[39mrandom\u001B[38;5;241m.\u001B[39mrand(\u001B[38;5;241m17\u001B[39m, \u001B[38;5;241m1\u001B[39m, \u001B[38;5;241m3\u001B[39m)\n\u001B[0;32m--> 253\u001B[0m nimble_to_real_imu_transform \u001B[38;5;241m=\u001B[39m \u001B[38;5;28mself\u001B[39m\u001B[38;5;241m.\u001B[39mget_transform(accel_translation_mat, \u001B[38;5;28mself\u001B[39m\u001B[38;5;241m.\u001B[39mrotation_matrix(phi_accel, theta_accel, psi_accel))\n\u001B[1;32m    255\u001B[0m trial_body_node_world_transforms \u001B[38;5;241m=\u001B[39m \u001B[38;5;28mself\u001B[39m\u001B[38;5;241m.\u001B[39mget_world_transforms(trial_name)\n\u001B[1;32m    257\u001B[0m begin_loss \u001B[38;5;241m=\u001B[39m \u001B[38;5;28;01mNone\u001B[39;00m\n",
      "Cell \u001B[0;32mIn[20], line 214\u001B[0m, in \u001B[0;36mDIP_Subject.get_transform\u001B[0;34m(self, translation, rotation)\u001B[0m\n\u001B[1;32m    211\u001B[0m ret \u001B[38;5;241m=\u001B[39m np\u001B[38;5;241m.\u001B[39mzeros((rotation\u001B[38;5;241m.\u001B[39mshape[\u001B[38;5;241m0\u001B[39m], \u001B[38;5;241m4\u001B[39m, \u001B[38;5;241m4\u001B[39m))\n\u001B[1;32m    213\u001B[0m ret[:, :\u001B[38;5;241m3\u001B[39m, :\u001B[38;5;241m3\u001B[39m] \u001B[38;5;241m=\u001B[39m rotation\n\u001B[0;32m--> 214\u001B[0m ret[:, \u001B[38;5;241m3\u001B[39m, :\u001B[38;5;241m3\u001B[39m] \u001B[38;5;241m=\u001B[39m translation\n\u001B[1;32m    215\u001B[0m ret[:, \u001B[38;5;241m3\u001B[39m, \u001B[38;5;241m3\u001B[39m] \u001B[38;5;241m=\u001B[39m \u001B[38;5;241m1\u001B[39m\n\u001B[1;32m    217\u001B[0m \u001B[38;5;28;01mreturn\u001B[39;00m ret\n",
      "\u001B[0;31mValueError\u001B[0m: could not broadcast input array from shape (17,1,3) into shape (17,3)"
     ]
    }
   ],
   "execution_count": 21
  },
  {
   "metadata": {},
   "cell_type": "code",
   "source": [
    "import pickle\n",
    "with open(\"/home/meribejayson/Desktop/Projects/realistic-imu/data/final_dataset/DIP/DIP_orig/S1/01.pkl\", \"rb\") as file:\n",
    "    loaded_dict = pickle.load(file, encoding=\"latin1\")\n",
    "\n",
    "loaded_dict.keys()"
   ],
   "id": "fa6b08290f73a44f",
   "outputs": [],
   "execution_count": null
  },
  {
   "metadata": {},
   "cell_type": "code",
   "source": "loaded_dict['gt'].shape",
   "id": "264be0e3410122ee",
   "outputs": [],
   "execution_count": null
  },
  {
   "metadata": {},
   "cell_type": "code",
   "source": "loaded_dict[\"imu\"].shape",
   "id": "b5d261a90e014981",
   "outputs": [],
   "execution_count": null
  },
  {
   "metadata": {},
   "cell_type": "code",
   "source": "loaded_dict[\"imu_acc\"].shape",
   "id": "6428c81d588ea847",
   "outputs": [],
   "execution_count": null
  },
  {
   "metadata": {},
   "cell_type": "code",
   "source": [
    "subject = nimble.biomechanics.SubjectOnDisk(\"/home/meribejayson/Desktop/Projects/realistic-imu/data/final_dataset/DIP/S1.b3d\")\n",
    "skeleton = nimble.dynamics.Skeleton = subject.readSkel(processingPass=1,\n",
    "                                                       geometryFolder=GEOMETRY_PATH)\n",
    "\n",
    "[subject.getTrialName(i) for i in range(subject.getNumTrials())]"
   ],
   "id": "9059f98e101c377a",
   "outputs": [],
   "execution_count": null
  },
  {
   "metadata": {},
   "cell_type": "code",
   "source": [
    "\"\"\"gui = nimble.NimbleGUI()\n",
    "gui.serve(8080)\n",
    "trial_frames: nimble.biomechanics.FrameList = subject.readFrames(trial=0,\n",
    "                                                                 startFrame=0,\n",
    "                                                                 numFramesToRead=subject.getTrialLength(0),\n",
    "                                                                 includeProcessingPasses=True)\n",
    "\n",
    "joint_angles = np.vstack([frame.processingPasses[-1].pos for frame in trial_frames]).T\n",
    "\n",
    "for t in tqdm(range(joint_angles.shape[1])):\n",
    "    skeleton.setPositions(joint_angles[:, t])\n",
    "\n",
    "    gui.nativeAPI().renderSkeleton(skeleton)\n",
    "    time.sleep(1/60)\"\"\""
   ],
   "id": "bd58d6b55bf9c4b0",
   "outputs": [],
   "execution_count": null
  },
  {
   "metadata": {},
   "cell_type": "code",
   "source": "",
   "id": "cf2605ce73af5bc2",
   "outputs": [],
   "execution_count": null
  }
 ],
 "metadata": {
  "kernelspec": {
   "display_name": "Python 3",
   "language": "python",
   "name": "python3"
  },
  "language_info": {
   "codemirror_mode": {
    "name": "ipython",
    "version": 2
   },
   "file_extension": ".py",
   "mimetype": "text/x-python",
   "name": "python",
   "nbconvert_exporter": "python",
   "pygments_lexer": "ipython2",
   "version": "2.7.6"
  }
 },
 "nbformat": 4,
 "nbformat_minor": 5
}
