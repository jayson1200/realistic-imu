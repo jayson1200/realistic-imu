{
 "cells": [
  {
   "cell_type": "code",
   "id": "initial_id",
   "metadata": {
    "collapsed": true,
    "ExecuteTime": {
     "end_time": "2024-12-16T09:30:53.636877Z",
     "start_time": "2024-12-16T09:30:53.634577Z"
    }
   },
   "source": [
    "import numpy as np\n",
    "from smplx import SMPLH\n",
    "import torch\n",
    "\n",
    "data_path = \"/home/meribejayson/Desktop/Projects/realistic-imu/data/TotalCapture_smplh/s5\"\n",
    "model_path = \"/home/meribejayson/Desktop/Projects/realistic-imu/data/merged\""
   ],
   "outputs": [],
   "execution_count": 149
  },
  {
   "metadata": {
    "ExecuteTime": {
     "end_time": "2024-12-16T09:30:53.687673Z",
     "start_time": "2024-12-16T09:30:53.682772Z"
    }
   },
   "cell_type": "code",
   "source": [
    "data = np.load(f\"{data_path}/freestyle3_poses.npz\")\n",
    "\n",
    "for key in data.keys():\n",
    "    print(key)\n",
    "\n",
    "data[\"dmpls\"].shape[1]"
   ],
   "id": "443e52955a1d294d",
   "outputs": [
    {
     "name": "stdout",
     "output_type": "stream",
     "text": [
      "trans\n",
      "gender\n",
      "mocap_framerate\n",
      "betas\n",
      "dmpls\n",
      "poses\n"
     ]
    },
    {
     "data": {
      "text/plain": [
       "8"
      ]
     },
     "execution_count": 150,
     "metadata": {},
     "output_type": "execute_result"
    }
   ],
   "execution_count": 150
  },
  {
   "metadata": {
    "ExecuteTime": {
     "end_time": "2024-12-16T09:30:53.871568Z",
     "start_time": "2024-12-16T09:30:53.788181Z"
    }
   },
   "cell_type": "code",
   "source": "smplh = smplx.create(model_path=model_path, gender='male', num_dmpls=8, num_betas=16)",
   "id": "e698a0a3601426b2",
   "outputs": [
    {
     "name": "stdout",
     "output_type": "stream",
     "text": [
      "WARNING: You are using a SMPL+H model, with only 10 shape coefficients.\n"
     ]
    }
   ],
   "execution_count": 151
  },
  {
   "metadata": {
    "ExecuteTime": {
     "end_time": "2024-12-16T09:30:53.887416Z",
     "start_time": "2024-12-16T09:30:53.880676Z"
    }
   },
   "cell_type": "code",
   "source": [
    "# Load SMPL-H data from file\n",
    "poses = torch.tensor(data['poses'], dtype=torch.float32)  # Shape: (n_frames, 156)\n",
    "betas = torch.tensor(data['betas'], dtype=torch.float32).unsqueeze(0)  # Shape: (1, 10)\n",
    "trans = torch.tensor(data['trans'], dtype=torch.float32)  # Shape: (n_frames, 3)\n",
    "dmpls = torch.tensor(data['dmpls'], dtype=torch.float32)  # Shape: (n_frames, 10)\n",
    "\n",
    "# Split poses into body and hand poses\n",
    "body_pose = poses[:, 3:66]  # Body pose parameters (69 values)\n",
    "global_orient = poses[:, :3]  # Global orientation (3 values)\n",
    "left_hand_pose = poses[:, 66:111]  # Left hand pose (45 values)\n",
    "right_hand_pose = poses[:, 111:]  # Right hand pose (45 values)"
   ],
   "id": "88a2d9a10b969e14",
   "outputs": [],
   "execution_count": 152
  },
  {
   "metadata": {
    "ExecuteTime": {
     "end_time": "2024-12-16T09:30:53.934381Z",
     "start_time": "2024-12-16T09:30:53.931326Z"
    }
   },
   "cell_type": "code",
   "source": "betas.shape",
   "id": "4e763be4678a14d7",
   "outputs": [
    {
     "data": {
      "text/plain": [
       "torch.Size([1, 16])"
      ]
     },
     "execution_count": 153,
     "metadata": {},
     "output_type": "execute_result"
    }
   ],
   "execution_count": 153
  },
  {
   "metadata": {
    "ExecuteTime": {
     "end_time": "2024-12-16T09:30:53.994106Z",
     "start_time": "2024-12-16T09:30:53.976359Z"
    }
   },
   "cell_type": "code",
   "source": [
    "\n",
    "# Generate vertices for all frames\n",
    "vertices = []\n",
    "for i in range(poses.shape[0]):\n",
    "    frame_verts = smplh(\n",
    "        global_orient=global_orient[i].unsqueeze(0),  # Root orientation\n",
    "        body_pose=body_pose[i].unsqueeze(0),  # Body joint rotations\n",
    "        left_hand_pose=left_hand_pose[i].unsqueeze(0),  # Left hand articulation\n",
    "        right_hand_pose=right_hand_pose[i].unsqueeze(0),  # Right hand articulation\n",
    "        betas=betas,  # Shape coefficients\n",
    "        dmpls=dmpls[i].unsqueeze(0),  # Dynamic deformations\n",
    "        transl=trans[i].unsqueeze(0)  # Global translation\n",
    "    ).vertices\n",
    "    vertices.append(frame_verts)\n",
    "\n",
    "# Convert list of vertices into NumPy array\n",
    "vertices = torch.stack(vertices).detach().cpu().numpy()  # Shape: (n_frames, 10475, 3)\n",
    "print(\"Vertices shape:\", vertices.shape)"
   ],
   "id": "487831d3028ddeb5",
   "outputs": [
    {
     "ename": "RuntimeError",
     "evalue": "size of dimension does not match previous size, operand 1, dim 0",
     "output_type": "error",
     "traceback": [
      "\u001B[0;31m---------------------------------------------------------------------------\u001B[0m",
      "\u001B[0;31mRuntimeError\u001B[0m                              Traceback (most recent call last)",
      "\u001B[0;32m/tmp/ipykernel_82730/2683675462.py\u001B[0m in \u001B[0;36m<module>\u001B[0;34m\u001B[0m\n\u001B[1;32m      9\u001B[0m         \u001B[0mbetas\u001B[0m\u001B[0;34m=\u001B[0m\u001B[0mbetas\u001B[0m\u001B[0;34m,\u001B[0m  \u001B[0;31m# Shape coefficients\u001B[0m\u001B[0;34m\u001B[0m\u001B[0;34m\u001B[0m\u001B[0m\n\u001B[1;32m     10\u001B[0m         \u001B[0mdmpls\u001B[0m\u001B[0;34m=\u001B[0m\u001B[0mdmpls\u001B[0m\u001B[0;34m[\u001B[0m\u001B[0mi\u001B[0m\u001B[0;34m]\u001B[0m\u001B[0;34m.\u001B[0m\u001B[0munsqueeze\u001B[0m\u001B[0;34m(\u001B[0m\u001B[0;36m0\u001B[0m\u001B[0;34m)\u001B[0m\u001B[0;34m,\u001B[0m  \u001B[0;31m# Dynamic deformations\u001B[0m\u001B[0;34m\u001B[0m\u001B[0;34m\u001B[0m\u001B[0m\n\u001B[0;32m---> 11\u001B[0;31m         \u001B[0mtransl\u001B[0m\u001B[0;34m=\u001B[0m\u001B[0mtrans\u001B[0m\u001B[0;34m[\u001B[0m\u001B[0mi\u001B[0m\u001B[0;34m]\u001B[0m\u001B[0;34m.\u001B[0m\u001B[0munsqueeze\u001B[0m\u001B[0;34m(\u001B[0m\u001B[0;36m0\u001B[0m\u001B[0;34m)\u001B[0m  \u001B[0;31m# Global translation\u001B[0m\u001B[0;34m\u001B[0m\u001B[0;34m\u001B[0m\u001B[0m\n\u001B[0m\u001B[1;32m     12\u001B[0m     ).vertices\n\u001B[1;32m     13\u001B[0m     \u001B[0mvertices\u001B[0m\u001B[0;34m.\u001B[0m\u001B[0mappend\u001B[0m\u001B[0;34m(\u001B[0m\u001B[0mframe_verts\u001B[0m\u001B[0;34m)\u001B[0m\u001B[0;34m\u001B[0m\u001B[0;34m\u001B[0m\u001B[0m\n",
      "\u001B[0;32m~/anaconda3/envs/get-smpl-perf/lib/python3.7/site-packages/torch/nn/modules/module.py\u001B[0m in \u001B[0;36m_call_impl\u001B[0;34m(self, *input, **kwargs)\u001B[0m\n\u001B[1;32m    725\u001B[0m             \u001B[0mresult\u001B[0m \u001B[0;34m=\u001B[0m \u001B[0mself\u001B[0m\u001B[0;34m.\u001B[0m\u001B[0m_slow_forward\u001B[0m\u001B[0;34m(\u001B[0m\u001B[0;34m*\u001B[0m\u001B[0minput\u001B[0m\u001B[0;34m,\u001B[0m \u001B[0;34m**\u001B[0m\u001B[0mkwargs\u001B[0m\u001B[0;34m)\u001B[0m\u001B[0;34m\u001B[0m\u001B[0;34m\u001B[0m\u001B[0m\n\u001B[1;32m    726\u001B[0m         \u001B[0;32melse\u001B[0m\u001B[0;34m:\u001B[0m\u001B[0;34m\u001B[0m\u001B[0;34m\u001B[0m\u001B[0m\n\u001B[0;32m--> 727\u001B[0;31m             \u001B[0mresult\u001B[0m \u001B[0;34m=\u001B[0m \u001B[0mself\u001B[0m\u001B[0;34m.\u001B[0m\u001B[0mforward\u001B[0m\u001B[0;34m(\u001B[0m\u001B[0;34m*\u001B[0m\u001B[0minput\u001B[0m\u001B[0;34m,\u001B[0m \u001B[0;34m**\u001B[0m\u001B[0mkwargs\u001B[0m\u001B[0;34m)\u001B[0m\u001B[0;34m\u001B[0m\u001B[0;34m\u001B[0m\u001B[0m\n\u001B[0m\u001B[1;32m    728\u001B[0m         for hook in itertools.chain(\n\u001B[1;32m    729\u001B[0m                 \u001B[0m_global_forward_hooks\u001B[0m\u001B[0;34m.\u001B[0m\u001B[0mvalues\u001B[0m\u001B[0;34m(\u001B[0m\u001B[0;34m)\u001B[0m\u001B[0;34m,\u001B[0m\u001B[0;34m\u001B[0m\u001B[0;34m\u001B[0m\u001B[0m\n",
      "\u001B[0;32m~/anaconda3/envs/get-smpl-perf/lib/python3.7/site-packages/smplx/body_models.py\u001B[0m in \u001B[0;36mforward\u001B[0;34m(self, betas, global_orient, body_pose, left_hand_pose, right_hand_pose, transl, return_verts, return_full_pose, pose2rot, **kwargs)\u001B[0m\n\u001B[1;32m    717\u001B[0m         \u001B[0;32mif\u001B[0m \u001B[0mself\u001B[0m\u001B[0;34m.\u001B[0m\u001B[0muse_pca\u001B[0m\u001B[0;34m:\u001B[0m\u001B[0;34m\u001B[0m\u001B[0;34m\u001B[0m\u001B[0m\n\u001B[1;32m    718\u001B[0m             left_hand_pose = torch.einsum(\n\u001B[0;32m--> 719\u001B[0;31m                 'bi,ij->bj', [left_hand_pose, self.left_hand_components])\n\u001B[0m\u001B[1;32m    720\u001B[0m             right_hand_pose = torch.einsum(\n\u001B[1;32m    721\u001B[0m                 'bi,ij->bj', [right_hand_pose, self.right_hand_components])\n",
      "\u001B[0;32m~/anaconda3/envs/get-smpl-perf/lib/python3.7/site-packages/torch/functional.py\u001B[0m in \u001B[0;36meinsum\u001B[0;34m(equation, *operands)\u001B[0m\n\u001B[1;32m    340\u001B[0m         \u001B[0;31m# recurse incase operands contains value that has torch function\u001B[0m\u001B[0;34m\u001B[0m\u001B[0;34m\u001B[0m\u001B[0;34m\u001B[0m\u001B[0m\n\u001B[1;32m    341\u001B[0m         \u001B[0;31m# in the original implementation this line is omitted\u001B[0m\u001B[0;34m\u001B[0m\u001B[0;34m\u001B[0m\u001B[0;34m\u001B[0m\u001B[0m\n\u001B[0;32m--> 342\u001B[0;31m         \u001B[0;32mreturn\u001B[0m \u001B[0meinsum\u001B[0m\u001B[0;34m(\u001B[0m\u001B[0mequation\u001B[0m\u001B[0;34m,\u001B[0m \u001B[0;34m*\u001B[0m\u001B[0m_operands\u001B[0m\u001B[0;34m)\u001B[0m\u001B[0;34m\u001B[0m\u001B[0;34m\u001B[0m\u001B[0m\n\u001B[0m\u001B[1;32m    343\u001B[0m \u001B[0;34m\u001B[0m\u001B[0m\n\u001B[1;32m    344\u001B[0m     \u001B[0;32mreturn\u001B[0m \u001B[0m_VF\u001B[0m\u001B[0;34m.\u001B[0m\u001B[0meinsum\u001B[0m\u001B[0;34m(\u001B[0m\u001B[0mequation\u001B[0m\u001B[0;34m,\u001B[0m \u001B[0moperands\u001B[0m\u001B[0;34m)\u001B[0m  \u001B[0;31m# type: ignore\u001B[0m\u001B[0;34m\u001B[0m\u001B[0;34m\u001B[0m\u001B[0m\n",
      "\u001B[0;32m~/anaconda3/envs/get-smpl-perf/lib/python3.7/site-packages/torch/functional.py\u001B[0m in \u001B[0;36meinsum\u001B[0;34m(equation, *operands)\u001B[0m\n\u001B[1;32m    342\u001B[0m         \u001B[0;32mreturn\u001B[0m \u001B[0meinsum\u001B[0m\u001B[0;34m(\u001B[0m\u001B[0mequation\u001B[0m\u001B[0;34m,\u001B[0m \u001B[0;34m*\u001B[0m\u001B[0m_operands\u001B[0m\u001B[0;34m)\u001B[0m\u001B[0;34m\u001B[0m\u001B[0;34m\u001B[0m\u001B[0m\n\u001B[1;32m    343\u001B[0m \u001B[0;34m\u001B[0m\u001B[0m\n\u001B[0;32m--> 344\u001B[0;31m     \u001B[0;32mreturn\u001B[0m \u001B[0m_VF\u001B[0m\u001B[0;34m.\u001B[0m\u001B[0meinsum\u001B[0m\u001B[0;34m(\u001B[0m\u001B[0mequation\u001B[0m\u001B[0;34m,\u001B[0m \u001B[0moperands\u001B[0m\u001B[0;34m)\u001B[0m  \u001B[0;31m# type: ignore\u001B[0m\u001B[0;34m\u001B[0m\u001B[0;34m\u001B[0m\u001B[0m\n\u001B[0m\u001B[1;32m    345\u001B[0m \u001B[0;34m\u001B[0m\u001B[0m\n\u001B[1;32m    346\u001B[0m \u001B[0;34m\u001B[0m\u001B[0m\n",
      "\u001B[0;31mRuntimeError\u001B[0m: size of dimension does not match previous size, operand 1, dim 0"
     ]
    }
   ],
   "execution_count": 154
  }
 ],
 "metadata": {
  "kernelspec": {
   "display_name": "Python 3",
   "language": "python",
   "name": "python3"
  },
  "language_info": {
   "codemirror_mode": {
    "name": "ipython",
    "version": 2
   },
   "file_extension": ".py",
   "mimetype": "text/x-python",
   "name": "python",
   "nbconvert_exporter": "python",
   "pygments_lexer": "ipython2",
   "version": "2.7.6"
  }
 },
 "nbformat": 4,
 "nbformat_minor": 5
}
