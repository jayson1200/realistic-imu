{
 "cells": [
  {
   "cell_type": "code",
   "id": "initial_id",
   "metadata": {
    "collapsed": true,
    "ExecuteTime": {
     "end_time": "2025-05-16T23:31:32.353589Z",
     "start_time": "2025-05-16T23:31:27.198618Z"
    }
   },
   "source": [
    "import matplotlib.pyplot as plt\n",
    "import numpy as np\n",
    "\n",
    "from subjects.constants import NIMBLE_BODY_NODES_UIP, NIMBLE_BODY_NODES_DIP\n",
    "from subjects.uip_subject import UIPSubject\n",
    "from subjects.dip_imu_subject import DIPSubject\n",
    "\n",
    "GEOMETRY_PATH = \"/home/meribejayson/Desktop/Projects/realistic-imu/data/final_dataset/Geometry/\"\n",
    "trial_path_uip = \"/home/meribejayson/Desktop/Projects/realistic-imu/data/final_dataset/UIP/S0.b3d\"\n",
    "trial_path_dip = \"/home/meribejayson/Desktop/Projects/realistic-imu/data/final_dataset/DIP/S1.b3d\""
   ],
   "outputs": [],
   "execution_count": 1
  },
  {
   "metadata": {
    "ExecuteTime": {
     "end_time": "2025-05-16T23:33:49.394814Z",
     "start_time": "2025-05-16T23:31:32.505646Z"
    }
   },
   "cell_type": "code",
   "source": "subject = UIPSubject(trial_path_uip, GEOMETRY_PATH, NIMBLE_BODY_NODES_UIP)",
   "id": "3779b0ec45fd134c",
   "outputs": [
    {
     "name": "stdout",
     "output_type": "stream",
     "text": [
      "Setting len to 0.088927\n",
      "Setting neutral pos to   0\n",
      "0.7\n",
      "  0\n",
      "Setting len to 0.329597\n",
      "Setting neutral pos to    0\n",
      "-0.6\n",
      "   0\n",
      "Setting len to 0.111008\n",
      "Setting neutral pos to   0\n",
      "0.2\n",
      "  0\n",
      "<_io.BufferedReader name='/home/meribejayson/Desktop/Projects/realistic-imu/data/final_dataset/UIP/sensors/S0/0.pkl'>\n",
      "<_io.BufferedReader name='/home/meribejayson/Desktop/Projects/realistic-imu/data/final_dataset/UIP/sensors/S0/1.pkl'>\n",
      "<_io.BufferedReader name='/home/meribejayson/Desktop/Projects/realistic-imu/data/final_dataset/UIP/sensors/S0/2.pkl'>\n",
      "<_io.BufferedReader name='/home/meribejayson/Desktop/Projects/realistic-imu/data/final_dataset/UIP/sensors/S0/3.pkl'>\n",
      "<_io.BufferedReader name='/home/meribejayson/Desktop/Projects/realistic-imu/data/final_dataset/UIP/sensors/S0/4.pkl'>\n"
     ]
    }
   ],
   "execution_count": 2
  },
  {
   "metadata": {
    "ExecuteTime": {
     "end_time": "2025-05-16T23:33:49.433840Z",
     "start_time": "2025-05-16T23:33:49.428762Z"
    }
   },
   "cell_type": "code",
   "source": [
    "synthetic_accelerations = subject.syn_imu[\"3\"][\"acc\"]\n",
    "real_accelerations = subject.trial_imu_map[\"3\"][\"acc\"]"
   ],
   "id": "e7ba5ba23db49ba4",
   "outputs": [],
   "execution_count": 3
  },
  {
   "metadata": {
    "ExecuteTime": {
     "end_time": "2025-05-16T23:33:49.570791Z",
     "start_time": "2025-05-16T23:33:49.556825Z"
    }
   },
   "cell_type": "code",
   "source": "synthetic_accelerations.shape",
   "id": "23c5b860dfaea29c",
   "outputs": [
    {
     "data": {
      "text/plain": [
       "(16974, 6, 3)"
      ]
     },
     "execution_count": 4,
     "metadata": {},
     "output_type": "execute_result"
    }
   ],
   "execution_count": 4
  },
  {
   "metadata": {
    "ExecuteTime": {
     "end_time": "2025-05-16T23:33:49.750999Z",
     "start_time": "2025-05-16T23:33:49.744539Z"
    }
   },
   "cell_type": "code",
   "source": "real_accelerations.shape",
   "id": "a713fa4e5b40deef",
   "outputs": [
    {
     "data": {
      "text/plain": [
       "(16974, 6, 3)"
      ]
     },
     "execution_count": 5,
     "metadata": {},
     "output_type": "execute_result"
    }
   ],
   "execution_count": 5
  },
  {
   "metadata": {
    "ExecuteTime": {
     "end_time": "2025-05-16T23:33:49.873774Z",
     "start_time": "2025-05-16T23:33:49.863390Z"
    }
   },
   "cell_type": "code",
   "source": "np.mean(synthetic_accelerations - real_accelerations)",
   "id": "78356541a0c26cb1",
   "outputs": [
    {
     "data": {
      "text/plain": [
       "1.711936534340043"
      ]
     },
     "execution_count": 6,
     "metadata": {},
     "output_type": "execute_result"
    }
   ],
   "execution_count": 6
  },
  {
   "metadata": {
    "ExecuteTime": {
     "end_time": "2025-05-16T23:39:12.691826Z",
     "start_time": "2025-05-16T23:33:49.978686Z"
    }
   },
   "cell_type": "code",
   "source": "subject.generate_nimble_visualization(\"3\")",
   "id": "36d1386fbddbca4c",
   "outputs": [
    {
     "name": "stdout",
     "output_type": "stream",
     "text": [
      "GUIWebsocketServer will start serving a WebSocket server on ws://localhost:8070\n",
      "Web GUI serving on http://localhost:58143\n"
     ]
    },
    {
     "name": "stderr",
     "output_type": "stream",
     "text": [
      "  3%|▎         | 466/16974 [00:08<05:02, 54.66it/s]127.0.0.1 - - [16/May/2025 16:33:58] \"GET / HTTP/1.1\" 200 -\n",
      "  3%|▎         | 472/16974 [00:08<05:08, 53.41it/s]127.0.0.1 - - [16/May/2025 16:33:58] \"GET /bundle.js HTTP/1.1\" 200 -\n",
      "  3%|▎         | 490/16974 [00:09<05:13, 52.52it/s]127.0.0.1 - - [16/May/2025 16:33:59] \"GET /favicon.ico HTTP/1.1\" 200 -\n",
      " 20%|█▉        | 3316/16974 [01:03<04:17, 52.96it/s]Connection closed.\n",
      "There are now 1 open connections.\n",
      "100%|██████████| 16974/16974 [05:22<00:00, 52.60it/s]\n"
     ]
    }
   ],
   "execution_count": 7
  },
  {
   "metadata": {
    "ExecuteTime": {
     "end_time": "2025-05-16T23:39:13.333942Z",
     "start_time": "2025-05-16T23:39:12.768951Z"
    }
   },
   "cell_type": "code",
   "source": [
    "losses = subject.opt_trans[\"3\"][\"losses\"]\n",
    "\n",
    "plt.figure(figsize=(8, 5))\n",
    "plt.plot(np.arange(len(losses)), losses, label=\"Training Loss\", marker=\"o\", linestyle=\"-\", markersize=4)\n",
    "plt.xlabel(\"Epochs\")\n",
    "plt.ylabel(\"Loss\")\n",
    "plt.title(\"Loss vs. Epochs\")\n",
    "plt.legend()\n",
    "plt.grid(True)\n",
    "plt.show()"
   ],
   "id": "17990da38ba3927a",
   "outputs": [
    {
     "data": {
      "text/plain": [
       "<Figure size 800x500 with 1 Axes>"
      ],
      "image/png": "[encoded data removed]"
     },
     "metadata": {},
     "output_type": "display_data"
    }
   ],
   "execution_count": 8
  }
 ],
 "metadata": {
  "kernelspec": {
   "display_name": "Python 3",
   "language": "python",
   "name": "python3"
  },
  "language_info": {
   "codemirror_mode": {
    "name": "ipython",
    "version": 2
   },
   "file_extension": ".py",
   "mimetype": "text/x-python",
   "name": "python",
   "nbconvert_exporter": "python",
   "pygments_lexer": "ipython2",
   "version": "2.7.6"
  }
 },
 "nbformat": 4,
 "nbformat_minor": 5
}
