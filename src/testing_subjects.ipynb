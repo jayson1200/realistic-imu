{
 "cells": [
  {
   "cell_type": "code",
   "id": "initial_id",
   "metadata": {
    "collapsed": true,
    "ExecuteTime": {
     "end_time": "2025-05-15T23:46:04.716576Z",
     "start_time": "2025-05-15T23:46:04.709949Z"
    }
   },
   "source": [
    "from dip_imu_subject import DIPSubject\n",
    "import matplotlib.pyplot as plt\n",
    "import numpy as np\n",
    "\n",
    "GEOMETRY_PATH = \"/home/meribejayson/Desktop/Projects/realistic-imu/data/final_dataset/Geometry/\"\n",
    "trial_path = \"/home/meribejayson/Desktop/Projects/realistic-imu/data/final_dataset/DIP/S1.b3d\""
   ],
   "outputs": [],
   "execution_count": 8
  },
  {
   "metadata": {
    "ExecuteTime": {
     "end_time": "2025-05-15T23:04:17.915712Z",
     "start_time": "2025-05-15T23:02:43.501248Z"
    }
   },
   "cell_type": "code",
   "source": "subject = DIPSubject(trial_path, GEOMETRY_PATH)",
   "id": "3779b0ec45fd134c",
   "outputs": [
    {
     "name": "stdout",
     "output_type": "stream",
     "text": [
      "Setting len to 0.106608\n",
      "Setting neutral pos to   0\n",
      "0.7\n",
      "  0\n",
      "Setting len to 0.342794\n",
      "Setting neutral pos to    0\n",
      "-0.6\n",
      "   0\n",
      "Setting len to 0.119716\n",
      "Setting neutral pos to   0\n",
      "0.2\n",
      "  0\n",
      "Processing DIP Subject 1\n"
     ]
    }
   ],
   "execution_count": 2
  },
  {
   "metadata": {
    "ExecuteTime": {
     "end_time": "2025-05-16T00:36:54.291165Z",
     "start_time": "2025-05-16T00:36:54.286243Z"
    }
   },
   "cell_type": "code",
   "source": [
    "synthetic_accelerations = subject.syn_imu[\"01\"][\"acc\"]\n",
    "real_accelerations = subject.trial_imu_map[\"01\"][\"acc\"]"
   ],
   "id": "e7ba5ba23db49ba4",
   "outputs": [],
   "execution_count": 38
  },
  {
   "metadata": {
    "ExecuteTime": {
     "end_time": "2025-05-16T00:36:04.282189Z",
     "start_time": "2025-05-16T00:36:04.273936Z"
    }
   },
   "cell_type": "code",
   "source": [
    "def plot_time_series(values_1, values_2, title=\"Time Series\", xlabel=\"Time\", ylabel=\"Value\"):\n",
    "    plt.figure(figsize=(20, 10))\n",
    "    plt.plot(np.arange(values_1.shape[0]), values_1, linewidth=1.5, color='blue')\n",
    "    plt.plot(np.arange(values_2.shape[0]), values_2, linewidth=1.5, color='red')\n",
    "    plt.title(title)\n",
    "    plt.xlabel(xlabel)\n",
    "    plt.ylabel(ylabel)\n",
    "    plt.grid(True)\n",
    "    plt.tight_layout()\n",
    "    plt.show()\n"
   ],
   "id": "cc675f06afe49964",
   "outputs": [],
   "execution_count": 34
  },
  {
   "metadata": {
    "ExecuteTime": {
     "end_time": "2025-05-16T00:36:56.122288Z",
     "start_time": "2025-05-16T00:36:56.116055Z"
    }
   },
   "cell_type": "code",
   "source": "synthetic_accelerations.shape",
   "id": "23c5b860dfaea29c",
   "outputs": [
    {
     "data": {
      "text/plain": [
       "(13778, 17, 3)"
      ]
     },
     "execution_count": 39,
     "metadata": {},
     "output_type": "execute_result"
    }
   ],
   "execution_count": 39
  },
  {
   "metadata": {
    "ExecuteTime": {
     "end_time": "2025-05-16T00:36:58.028710Z",
     "start_time": "2025-05-16T00:36:58.020433Z"
    }
   },
   "cell_type": "code",
   "source": "real_accelerations.shape",
   "id": "a713fa4e5b40deef",
   "outputs": [
    {
     "data": {
      "text/plain": [
       "(13778, 17, 3)"
      ]
     },
     "execution_count": 40,
     "metadata": {},
     "output_type": "execute_result"
    }
   ],
   "execution_count": 40
  },
  {
   "metadata": {
    "ExecuteTime": {
     "end_time": "2025-05-16T00:36:59.351343Z",
     "start_time": "2025-05-16T00:36:59.339512Z"
    }
   },
   "cell_type": "code",
   "source": "np.mean(synthetic_accelerations - real_accelerations)",
   "id": "78356541a0c26cb1",
   "outputs": [
    {
     "data": {
      "text/plain": [
       "0.04565459605901967"
      ]
     },
     "execution_count": 41,
     "metadata": {},
     "output_type": "execute_result"
    }
   ],
   "execution_count": 41
  }
 ],
 "metadata": {
  "kernelspec": {
   "display_name": "Python 3",
   "language": "python",
   "name": "python3"
  },
  "language_info": {
   "codemirror_mode": {
    "name": "ipython",
    "version": 2
   },
   "file_extension": ".py",
   "mimetype": "text/x-python",
   "name": "python",
   "nbconvert_exporter": "python",
   "pygments_lexer": "ipython2",
   "version": "2.7.6"
  }
 },
 "nbformat": 4,
 "nbformat_minor": 5
}
