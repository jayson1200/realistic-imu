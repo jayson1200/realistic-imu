{
 "cells": [
  {
   "cell_type": "code",
   "id": "initial_id",
   "metadata": {
    "collapsed": true
   },
   "source": [
    "import matplotlib.pyplot as plt\n",
    "import numpy as np\n",
    "\n",
    "from subjects.constants import NIMBLE_BODY_NODES_UIP, NIMBLE_BODY_NODES_DIP, NIMBLE_BODY_NODES_TOTAL_CAPTURE\n",
    "from subjects.uip_subject import UIPSubject\n",
    "from subjects.dip_imu_subject import DIPSubject\n",
    "from subjects.total_capture_subject import TotalCaptureSubject\n",
    "\n",
    "import nimblephysics as nimble\n",
    "\n",
    "GEOMETRY_PATH = \"/home/meribejayson/Desktop/Projects/realistic-imu/data/final_dataset/Geometry/\"\n",
    "trial_path_uip = \"/home/meribejayson/Desktop/Projects/realistic-imu/data/final_dataset/UIP/S0.b3d\"\n",
    "trial_path_dip = \"/home/meribejayson/Desktop/Projects/realistic-imu/data/final_dataset/DIP/S1.b3d\"\n",
    "trial_path_tot_cap = \"/home/meribejayson/Desktop/Projects/realistic-imu/data/final_dataset/Total-Capture/S1.b3d\""
   ],
   "outputs": [],
   "execution_count": null
  },
  {
   "metadata": {},
   "cell_type": "code",
   "source": "subject = TotalCaptureSubject(trial_path_tot_cap, GEOMETRY_PATH, NIMBLE_BODY_NODES_TOTAL_CAPTURE)",
   "id": "3779b0ec45fd134c",
   "outputs": [],
   "execution_count": null
  },
  {
   "metadata": {},
   "cell_type": "code",
   "source": [
    "synthetic_accelerations = subject.syn_imu[\"Acting1\"][\"acc\"]\n",
    "real_accelerations = subject.trial_imu_map[\"Acting1\"][\"acc\"]"
   ],
   "id": "e7ba5ba23db49ba4",
   "outputs": [],
   "execution_count": null
  },
  {
   "metadata": {},
   "cell_type": "code",
   "source": "synthetic_accelerations.shape",
   "id": "23c5b860dfaea29c",
   "outputs": [],
   "execution_count": null
  },
  {
   "metadata": {},
   "cell_type": "code",
   "source": "real_accelerations.shape",
   "id": "a713fa4e5b40deef",
   "outputs": [],
   "execution_count": null
  },
  {
   "metadata": {},
   "cell_type": "code",
   "source": "np.mean(synthetic_accelerations - real_accelerations)",
   "id": "78356541a0c26cb1",
   "outputs": [],
   "execution_count": null
  },
  {
   "metadata": {},
   "cell_type": "code",
   "source": "subject.generate_nimble_visualization(\"Acting1\")",
   "id": "36d1386fbddbca4c",
   "outputs": [],
   "execution_count": null
  },
  {
   "metadata": {},
   "cell_type": "code",
   "source": [
    "losses = subject.opt_trans[\"Acting1\"][\"losses\"]\n",
    "\n",
    "plt.figure(figsize=(8, 5))\n",
    "plt.plot(np.arange(len(losses)), losses, label=\"Training Loss\", marker=\"o\", linestyle=\"-\", markersize=4)\n",
    "plt.xlabel(\"Epochs\")\n",
    "plt.ylabel(\"Loss\")\n",
    "plt.title(\"Loss vs. Epochs\")\n",
    "plt.legend()\n",
    "plt.grid(True)\n",
    "plt.show()"
   ],
   "id": "17990da38ba3927a",
   "outputs": [],
   "execution_count": null
  },
  {
   "metadata": {},
   "cell_type": "code",
   "source": "subject = nimble.biomechanics.SubjectOnDisk(\"/home/meribejayson/Desktop/Projects/realistic-imu/data/final_dataset/Total-Capture/S1.b3d\")",
   "id": "6a25ce5fd050d494",
   "outputs": [],
   "execution_count": null
  },
  {
   "metadata": {},
   "cell_type": "code",
   "source": "subject.getTrialName(3)",
   "id": "76ff7f0d44f8b925",
   "outputs": [],
   "execution_count": null
  }
 ],
 "metadata": {
  "kernelspec": {
   "display_name": "Python 3",
   "language": "python",
   "name": "python3"
  },
  "language_info": {
   "codemirror_mode": {
    "name": "ipython",
    "version": 2
   },
   "file_extension": ".py",
   "mimetype": "text/x-python",
   "name": "python",
   "nbconvert_exporter": "python",
   "pygments_lexer": "ipython2",
   "version": "2.7.6"
  }
 },
 "nbformat": 4,
 "nbformat_minor": 5
}
